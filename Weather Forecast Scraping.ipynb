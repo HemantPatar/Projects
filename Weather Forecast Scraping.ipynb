{
 "cells": [
  {
   "cell_type": "code",
   "execution_count": 1,
   "metadata": {},
   "outputs": [],
   "source": [
    "import requests\n",
    "from bs4 import BeautifulSoup\n",
    "import re\n",
    "from tqdm import tqdm"
   ]
  },
  {
   "cell_type": "code",
   "execution_count": null,
   "metadata": {},
   "outputs": [],
   "source": []
  },
  {
   "cell_type": "code",
   "execution_count": 2,
   "metadata": {},
   "outputs": [],
   "source": [
    "page=requests.get('https://forecast.weather.gov/MapClick.php?lat=37.7772&lon=-122.4168#.XWd4ui4zbIV')"
   ]
  },
  {
   "cell_type": "code",
   "execution_count": null,
   "metadata": {},
   "outputs": [],
   "source": []
  },
  {
   "cell_type": "code",
   "execution_count": 3,
   "metadata": {},
   "outputs": [],
   "source": [
    "contents=page.content\n",
    "soup=BeautifulSoup(contents,'lxml')"
   ]
  },
  {
   "cell_type": "code",
   "execution_count": null,
   "metadata": {},
   "outputs": [],
   "source": []
  },
  {
   "cell_type": "code",
   "execution_count": 4,
   "metadata": {},
   "outputs": [
    {
     "name": "stdout",
     "output_type": "stream",
     "text": [
      "<div class=\"panel panel-default\" id=\"seven-day-forecast\">\n",
      "<div class=\"panel-heading\">\n",
      "<b>Extended Forecast for</b>\n",
      "<h2 class=\"panel-title\">\n",
      "\t    \t    San Francisco CA\t</h2>\n",
      "</div>\n",
      "<div class=\"panel-body\" id=\"seven-day-forecast-body\">\n",
      "<div id=\"seven-day-forecast-container\"><ul class=\"list-unstyled\" id=\"seven-day-forecast-list\"><li class=\"forecast-tombstone\">\n",
      "<div class=\"tombstone-container\">\n",
      "<p class=\"period-name\">Tonight<br/><br/></p>\n",
      "<p><img alt=\"Tonight: Mostly cloudy, with a low around 58. West wind 10 to 13 mph. \" class=\"forecast-icon\" src=\"newimages/medium/nbkn.png\" title=\"Tonight: Mostly cloudy, with a low around 58. West wind 10 to 13 mph. \"/></p><p class=\"short-desc\">Mostly Cloudy</p><p class=\"temp temp-low\">Low: 58 °F</p></div></li><li class=\"forecast-tombstone\">\n",
      "<div class=\"tombstone-container\">\n",
      "<p class=\"period-name\">Sunday<br/><br/></p>\n",
      "<p><img alt=\"Sunday: Cloudy through mid morning, then gradual clearing, with a high near 69. West wind 10 to 16 mph, with gusts as high as 22 mph. \" class=\"forecast-icon\" src=\"newimages/medium/bkn.png\" title=\"Sunday: Cloudy through mid morning, then gradual clearing, with a high near 69. West wind 10 to 16 mph, with gusts as high as 22 mph. \"/></p><p class=\"short-desc\">Gradual<br/>Clearing</p><p class=\"temp temp-high\">High: 69 °F</p></div></li><li class=\"forecast-tombstone\">\n",
      "<div class=\"tombstone-container\">\n",
      "<p class=\"period-name\">Sunday<br/>Night</p>\n",
      "<p><img alt=\"Sunday Night: Mostly clear during the early evening, then becoming cloudy, with a low around 60. West wind 7 to 17 mph, with gusts as high as 22 mph. \" class=\"forecast-icon\" src=\"newimages/medium/novc.png\" title=\"Sunday Night: Mostly clear during the early evening, then becoming cloudy, with a low around 60. West wind 7 to 17 mph, with gusts as high as 22 mph. \"/></p><p class=\"short-desc\">Becoming<br/>Cloudy</p><p class=\"temp temp-low\">Low: 60 °F</p></div></li><li class=\"forecast-tombstone\">\n",
      "<div class=\"tombstone-container\">\n",
      "<p class=\"period-name\">Monday<br/><br/></p>\n",
      "<p><img alt=\"Monday: A 30 percent chance of rain, mainly before 11am.  Cloudy, then gradually becoming mostly sunny, with a high near 67. West wind 5 to 15 mph, with gusts as high as 20 mph.  New precipitation amounts of less than a tenth of an inch possible. \" class=\"forecast-icon\" src=\"newimages/medium/ra30.png\" title=\"Monday: A 30 percent chance of rain, mainly before 11am.  Cloudy, then gradually becoming mostly sunny, with a high near 67. West wind 5 to 15 mph, with gusts as high as 20 mph.  New precipitation amounts of less than a tenth of an inch possible. \"/></p><p class=\"short-desc\">Chance Rain</p><p class=\"temp temp-high\">High: 67 °F</p></div></li><li class=\"forecast-tombstone\">\n",
      "<div class=\"tombstone-container\">\n",
      "<p class=\"period-name\">Monday<br/>Night</p>\n",
      "<p><img alt=\"Monday Night: A 20 percent chance of rain before 11pm.  Partly cloudy, with a low around 57. West wind 11 to 16 mph becoming light  after midnight. Winds could gust as high as 21 mph. \" class=\"forecast-icon\" src=\"DualImage.php?i=nra&amp;j=nfew&amp;ip=20\" title=\"Monday Night: A 20 percent chance of rain before 11pm.  Partly cloudy, with a low around 57. West wind 11 to 16 mph becoming light  after midnight. Winds could gust as high as 21 mph. \"/></p><p class=\"short-desc\">Slight Chance<br/>Rain then<br/>Mostly Clear</p><p class=\"temp temp-low\">Low: 57 °F</p></div></li><li class=\"forecast-tombstone\">\n",
      "<div class=\"tombstone-container\">\n",
      "<p class=\"period-name\">Tuesday<br/><br/></p>\n",
      "<p><img alt=\"Tuesday: Sunny, with a high near 69.\" class=\"forecast-icon\" src=\"newimages/medium/few.png\" title=\"Tuesday: Sunny, with a high near 69.\"/></p><p class=\"short-desc\">Sunny</p><p class=\"temp temp-high\">High: 69 °F</p></div></li><li class=\"forecast-tombstone\">\n",
      "<div class=\"tombstone-container\">\n",
      "<p class=\"period-name\">Tuesday<br/>Night</p>\n",
      "<p><img alt=\"Tuesday Night: Clear, with a low around 58.\" class=\"forecast-icon\" src=\"newimages/medium/nskc.png\" title=\"Tuesday Night: Clear, with a low around 58.\"/></p><p class=\"short-desc\">Clear</p><p class=\"temp temp-low\">Low: 58 °F</p></div></li><li class=\"forecast-tombstone\">\n",
      "<div class=\"tombstone-container\">\n",
      "<p class=\"period-name\">Wednesday<br/><br/></p>\n",
      "<p><img alt=\"Wednesday: Sunny, with a high near 71.\" class=\"forecast-icon\" src=\"newimages/medium/few.png\" title=\"Wednesday: Sunny, with a high near 71.\"/></p><p class=\"short-desc\">Sunny</p><p class=\"temp temp-high\">High: 71 °F</p></div></li><li class=\"forecast-tombstone\">\n",
      "<div class=\"tombstone-container\">\n",
      "<p class=\"period-name\">Wednesday<br/>Night</p>\n",
      "<p><img alt=\"Wednesday Night: Partly cloudy, with a low around 58.\" class=\"forecast-icon\" src=\"newimages/medium/nsct.png\" title=\"Wednesday Night: Partly cloudy, with a low around 58.\"/></p><p class=\"short-desc\">Partly Cloudy</p><p class=\"temp temp-low\">Low: 58 °F</p></div></li></ul></div>\n",
      "<script type=\"text/javascript\">\n",
      "// equalize forecast heights\n",
      "$(function () {\n",
      "\tvar maxh = 0;\n",
      "\t$(\".forecast-tombstone .short-desc\").each(function () {\n",
      "\t\tvar h = $(this).height();\n",
      "\t\tif (h > maxh) { maxh = h; }\n",
      "\t});\n",
      "\t$(\".forecast-tombstone .short-desc\").height(maxh);\n",
      "});\n",
      "</script> </div>\n",
      "</div>\n"
     ]
    }
   ],
   "source": [
    "seven_day=soup.find(id='seven-day-forecast')\n",
    "print(seven_day)"
   ]
  },
  {
   "cell_type": "code",
   "execution_count": 5,
   "metadata": {},
   "outputs": [],
   "source": [
    "forecast_items=seven_day.find_all(class_=\"tombstone-container\")"
   ]
  },
  {
   "cell_type": "code",
   "execution_count": 6,
   "metadata": {},
   "outputs": [
    {
     "name": "stdout",
     "output_type": "stream",
     "text": [
      "<div class=\"tombstone-container\">\n",
      " <p class=\"period-name\">\n",
      "  Tonight\n",
      "  <br/>\n",
      "  <br/>\n",
      " </p>\n",
      " <p>\n",
      "  <img alt=\"Tonight: Mostly cloudy, with a low around 58. West wind 10 to 13 mph. \" class=\"forecast-icon\" src=\"newimages/medium/nbkn.png\" title=\"Tonight: Mostly cloudy, with a low around 58. West wind 10 to 13 mph. \"/>\n",
      " </p>\n",
      " <p class=\"short-desc\">\n",
      "  Mostly Cloudy\n",
      " </p>\n",
      " <p class=\"temp temp-low\">\n",
      "  Low: 58 °F\n",
      " </p>\n",
      "</div>\n"
     ]
    }
   ],
   "source": [
    "tonight=forecast_items[0]\n",
    "print(tonight.prettify())"
   ]
  },
  {
   "cell_type": "code",
   "execution_count": null,
   "metadata": {},
   "outputs": [],
   "source": []
  },
  {
   "cell_type": "code",
   "execution_count": 7,
   "metadata": {},
   "outputs": [
    {
     "name": "stdout",
     "output_type": "stream",
     "text": [
      "Tonight\n"
     ]
    }
   ],
   "source": [
    "period=tonight.find(class_=\"period-name\").text\n",
    "print(period)"
   ]
  },
  {
   "cell_type": "code",
   "execution_count": 8,
   "metadata": {},
   "outputs": [
    {
     "name": "stdout",
     "output_type": "stream",
     "text": [
      "Mostly Cloudy\n"
     ]
    }
   ],
   "source": [
    "short_desc=tonight.find(class_=\"short-desc\").text\n",
    "print(short_desc)"
   ]
  },
  {
   "cell_type": "code",
   "execution_count": 9,
   "metadata": {},
   "outputs": [
    {
     "name": "stdout",
     "output_type": "stream",
     "text": [
      "Low: 58 °F\n"
     ]
    }
   ],
   "source": [
    "temp=tonight.find(class_=\"temp\").text\n",
    "print(temp)"
   ]
  },
  {
   "cell_type": "code",
   "execution_count": 10,
   "metadata": {},
   "outputs": [
    {
     "name": "stdout",
     "output_type": "stream",
     "text": [
      "<img alt=\"Tonight: Mostly cloudy, with a low around 58. West wind 10 to 13 mph. \" class=\"forecast-icon\" src=\"newimages/medium/nbkn.png\" title=\"Tonight: Mostly cloudy, with a low around 58. West wind 10 to 13 mph. \"/>\n"
     ]
    }
   ],
   "source": [
    "img=tonight.find(\"img\")\n",
    "print(img)"
   ]
  },
  {
   "cell_type": "code",
   "execution_count": 11,
   "metadata": {},
   "outputs": [
    {
     "name": "stdout",
     "output_type": "stream",
     "text": [
      "Tonight: Mostly cloudy, with a low around 58. West wind 10 to 13 mph. \n"
     ]
    }
   ],
   "source": [
    "desc=img['title']\n",
    "print(desc)"
   ]
  },
  {
   "cell_type": "code",
   "execution_count": 12,
   "metadata": {},
   "outputs": [
    {
     "name": "stdout",
     "output_type": "stream",
     "text": [
      "\n",
      "Tonight\n",
      "Mostly CloudyLow: 58 °F\n",
      "\n",
      "Sunday\n",
      "GradualClearingHigh: 69 °F\n",
      "\n",
      "SundayNight\n",
      "BecomingCloudyLow: 60 °F\n",
      "\n",
      "Monday\n",
      "Chance RainHigh: 67 °F\n",
      "\n",
      "MondayNight\n",
      "Slight ChanceRain thenMostly ClearLow: 57 °F\n",
      "\n",
      "Tuesday\n",
      "SunnyHigh: 69 °F\n",
      "\n",
      "TuesdayNight\n",
      "ClearLow: 58 °F\n",
      "\n",
      "Wednesday\n",
      "SunnyHigh: 71 °F\n",
      "\n",
      "WednesdayNight\n",
      "Partly CloudyLow: 58 °F\n"
     ]
    }
   ],
   "source": [
    "for i in seven_day.find_all(class_=\"tombstone-container\"):\n",
    " all_data=i.text\n",
    " print(all_data)"
   ]
  },
  {
   "cell_type": "code",
   "execution_count": 13,
   "metadata": {},
   "outputs": [
    {
     "name": "stdout",
     "output_type": "stream",
     "text": [
      "Tonight\n",
      "Sunday\n",
      "SundayNight\n",
      "Monday\n",
      "MondayNight\n",
      "Tuesday\n",
      "TuesdayNight\n",
      "Wednesday\n",
      "WednesdayNight\n"
     ]
    }
   ],
   "source": [
    "days= []\n",
    "for x in seven_day.find_all(class_=\"period-name\"):\n",
    "   days=x.text\n",
    "   print(days)\n",
    "    "
   ]
  },
  {
   "cell_type": "code",
   "execution_count": 14,
   "metadata": {},
   "outputs": [
    {
     "name": "stdout",
     "output_type": "stream",
     "text": [
      "Mostly Cloudy\n",
      "GradualClearing\n",
      "BecomingCloudy\n",
      "Chance Rain\n",
      "Slight ChanceRain thenMostly Clear\n",
      "Sunny\n",
      "Clear\n",
      "Sunny\n",
      "Partly Cloudy\n"
     ]
    }
   ],
   "source": [
    "short_desc= []\n",
    "for y in seven_day.find_all(class_=\"short-desc\"):\n",
    "     short_desc=y.text\n",
    "     print(short_desc)"
   ]
  },
  {
   "cell_type": "code",
   "execution_count": 15,
   "metadata": {},
   "outputs": [
    {
     "name": "stdout",
     "output_type": "stream",
     "text": [
      "Low: 58 °F\n",
      "High: 69 °F\n",
      "Low: 60 °F\n",
      "High: 67 °F\n",
      "Low: 57 °F\n",
      "High: 69 °F\n",
      "Low: 58 °F\n",
      "High: 71 °F\n",
      "Low: 58 °F\n"
     ]
    }
   ],
   "source": [
    "temperature=[]\n",
    "for z in seven_day.find_all(class_=\"temp\"):\n",
    "     temperature=z.text\n",
    "     print(temperature)"
   ]
  },
  {
   "cell_type": "code",
   "execution_count": 19,
   "metadata": {},
   "outputs": [
    {
     "name": "stdout",
     "output_type": "stream",
     "text": [
      "Tonight: Mostly cloudy, with a low around 58. West wind 10 to 13 mph. \n",
      "Sunday: Cloudy through mid morning, then gradual clearing, with a high near 69. West wind 10 to 16 mph, with gusts as high as 22 mph. \n",
      "Sunday Night: Mostly clear during the early evening, then becoming cloudy, with a low around 60. West wind 7 to 17 mph, with gusts as high as 22 mph. \n",
      "Monday: A 30 percent chance of rain, mainly before 11am.  Cloudy, then gradually becoming mostly sunny, with a high near 67. West wind 5 to 15 mph, with gusts as high as 20 mph.  New precipitation amounts of less than a tenth of an inch possible. \n",
      "Monday Night: A 20 percent chance of rain before 11pm.  Partly cloudy, with a low around 57. West wind 11 to 16 mph becoming light  after midnight. Winds could gust as high as 21 mph. \n",
      "Tuesday: Sunny, with a high near 69.\n",
      "Tuesday Night: Clear, with a low around 58.\n",
      "Wednesday: Sunny, with a high near 71.\n",
      "Wednesday Night: Partly cloudy, with a low around 58.\n"
     ]
    }
   ],
   "source": [
    "long_desc= []\n",
    "for a in seven_day.find_all(\"img\"):\n",
    "    long_desc=a['title']\n",
    "    print(long_desc)    "
   ]
  },
  {
   "cell_type": "code",
   "execution_count": 21,
   "metadata": {},
   "outputs": [
    {
     "name": "stdout",
     "output_type": "stream",
     "text": [
      "['Tonight', 'Sunday', 'SundayNight', 'Monday', 'MondayNight', 'Tuesday', 'TuesdayNight', 'Wednesday', 'WednesdayNight']\n",
      "['Mostly Cloudy', 'GradualClearing', 'BecomingCloudy', 'Chance Rain', 'Slight ChanceRain thenMostly Clear', 'Sunny', 'Clear', 'Sunny', 'Partly Cloudy']\n",
      "['Low: 58 °F', 'Low: 58 °F', 'Low: 58 °F', 'Low: 58 °F', 'Low: 58 °F', 'Low: 58 °F', 'Low: 58 °F', 'Low: 58 °F', 'Low: 58 °F']\n",
      "['Tonight: Mostly cloudy, with a low around 58. West wind 10 to 13 mph. ', 'Sunday: Cloudy through mid morning, then gradual clearing, with a high near 69. West wind 10 to 16 mph, with gusts as high as 22 mph. ', 'Sunday Night: Mostly clear during the early evening, then becoming cloudy, with a low around 60. West wind 7 to 17 mph, with gusts as high as 22 mph. ', 'Monday: A 30 percent chance of rain, mainly before 11am.  Cloudy, then gradually becoming mostly sunny, with a high near 67. West wind 5 to 15 mph, with gusts as high as 20 mph.  New precipitation amounts of less than a tenth of an inch possible. ', 'Monday Night: A 20 percent chance of rain before 11pm.  Partly cloudy, with a low around 57. West wind 11 to 16 mph becoming light  after midnight. Winds could gust as high as 21 mph. ', 'Tuesday: Sunny, with a high near 69.', 'Tuesday Night: Clear, with a low around 58.', 'Wednesday: Sunny, with a high near 71.', 'Wednesday Night: Partly cloudy, with a low around 58.']\n"
     ]
    }
   ],
   "source": [
    "days =[]\n",
    "for x in seven_day.find_all(class_=\"period-name\"):\n",
    "    days.append(x.text)\n",
    "    \n",
    "short_desc=[]\n",
    "for y in seven_day.find_all(class_=\"short-desc\"):\n",
    "    short_desc.append(y.text)\n",
    "    \n",
    "temperature=[]\n",
    "for a in seven_day.find_all(class_=\"temp\"):\n",
    "    temperature.append(z.text)\n",
    "\n",
    "long_desc=[]\n",
    "for a in seven_day.find_all(\"img\"):\n",
    "    long_desc.append(a['title'])\n",
    "print(days)\n",
    "print(short_desc)\n",
    "print(temperature)\n",
    "print(long_desc)"
   ]
  },
  {
   "cell_type": "code",
   "execution_count": 22,
   "metadata": {},
   "outputs": [
    {
     "data": {
      "text/html": [
       "<div>\n",
       "<style scoped>\n",
       "    .dataframe tbody tr th:only-of-type {\n",
       "        vertical-align: middle;\n",
       "    }\n",
       "\n",
       "    .dataframe tbody tr th {\n",
       "        vertical-align: top;\n",
       "    }\n",
       "\n",
       "    .dataframe thead th {\n",
       "        text-align: right;\n",
       "    }\n",
       "</style>\n",
       "<table border=\"1\" class=\"dataframe\">\n",
       "  <thead>\n",
       "    <tr style=\"text-align: right;\">\n",
       "      <th></th>\n",
       "      <th>period</th>\n",
       "      <th>short_desc</th>\n",
       "      <th>temp</th>\n",
       "      <th>desc</th>\n",
       "    </tr>\n",
       "  </thead>\n",
       "  <tbody>\n",
       "    <tr>\n",
       "      <th>0</th>\n",
       "      <td>Tonight</td>\n",
       "      <td>Mostly Cloudy</td>\n",
       "      <td>Low: 58 °F</td>\n",
       "      <td>Tonight: Mostly cloudy, with a low around 58. ...</td>\n",
       "    </tr>\n",
       "    <tr>\n",
       "      <th>1</th>\n",
       "      <td>Sunday</td>\n",
       "      <td>GradualClearing</td>\n",
       "      <td>Low: 58 °F</td>\n",
       "      <td>Sunday: Cloudy through mid morning, then gradu...</td>\n",
       "    </tr>\n",
       "    <tr>\n",
       "      <th>2</th>\n",
       "      <td>SundayNight</td>\n",
       "      <td>BecomingCloudy</td>\n",
       "      <td>Low: 58 °F</td>\n",
       "      <td>Sunday Night: Mostly clear during the early ev...</td>\n",
       "    </tr>\n",
       "    <tr>\n",
       "      <th>3</th>\n",
       "      <td>Monday</td>\n",
       "      <td>Chance Rain</td>\n",
       "      <td>Low: 58 °F</td>\n",
       "      <td>Monday: A 30 percent chance of rain, mainly be...</td>\n",
       "    </tr>\n",
       "    <tr>\n",
       "      <th>4</th>\n",
       "      <td>MondayNight</td>\n",
       "      <td>Slight ChanceRain thenMostly Clear</td>\n",
       "      <td>Low: 58 °F</td>\n",
       "      <td>Monday Night: A 20 percent chance of rain befo...</td>\n",
       "    </tr>\n",
       "    <tr>\n",
       "      <th>5</th>\n",
       "      <td>Tuesday</td>\n",
       "      <td>Sunny</td>\n",
       "      <td>Low: 58 °F</td>\n",
       "      <td>Tuesday: Sunny, with a high near 69.</td>\n",
       "    </tr>\n",
       "    <tr>\n",
       "      <th>6</th>\n",
       "      <td>TuesdayNight</td>\n",
       "      <td>Clear</td>\n",
       "      <td>Low: 58 °F</td>\n",
       "      <td>Tuesday Night: Clear, with a low around 58.</td>\n",
       "    </tr>\n",
       "    <tr>\n",
       "      <th>7</th>\n",
       "      <td>Wednesday</td>\n",
       "      <td>Sunny</td>\n",
       "      <td>Low: 58 °F</td>\n",
       "      <td>Wednesday: Sunny, with a high near 71.</td>\n",
       "    </tr>\n",
       "    <tr>\n",
       "      <th>8</th>\n",
       "      <td>WednesdayNight</td>\n",
       "      <td>Partly Cloudy</td>\n",
       "      <td>Low: 58 °F</td>\n",
       "      <td>Wednesday Night: Partly cloudy, with a low aro...</td>\n",
       "    </tr>\n",
       "  </tbody>\n",
       "</table>\n",
       "</div>"
      ],
      "text/plain": [
       "           period                          short_desc        temp  \\\n",
       "0         Tonight                       Mostly Cloudy  Low: 58 °F   \n",
       "1          Sunday                     GradualClearing  Low: 58 °F   \n",
       "2     SundayNight                      BecomingCloudy  Low: 58 °F   \n",
       "3          Monday                         Chance Rain  Low: 58 °F   \n",
       "4     MondayNight  Slight ChanceRain thenMostly Clear  Low: 58 °F   \n",
       "5         Tuesday                               Sunny  Low: 58 °F   \n",
       "6    TuesdayNight                               Clear  Low: 58 °F   \n",
       "7       Wednesday                               Sunny  Low: 58 °F   \n",
       "8  WednesdayNight                       Partly Cloudy  Low: 58 °F   \n",
       "\n",
       "                                                desc  \n",
       "0  Tonight: Mostly cloudy, with a low around 58. ...  \n",
       "1  Sunday: Cloudy through mid morning, then gradu...  \n",
       "2  Sunday Night: Mostly clear during the early ev...  \n",
       "3  Monday: A 30 percent chance of rain, mainly be...  \n",
       "4  Monday Night: A 20 percent chance of rain befo...  \n",
       "5               Tuesday: Sunny, with a high near 69.  \n",
       "6        Tuesday Night: Clear, with a low around 58.  \n",
       "7             Wednesday: Sunny, with a high near 71.  \n",
       "8  Wednesday Night: Partly cloudy, with a low aro...  "
      ]
     },
     "execution_count": 22,
     "metadata": {},
     "output_type": "execute_result"
    }
   ],
   "source": [
    "import pandas as pd\n",
    "weather= pd.DataFrame({ \"period\" : days,\n",
    "                        \"short_desc\" : short_desc,\n",
    "                         \"temp\" : temperature,\n",
    "                          \"desc\": long_desc \n",
    "                      })\n",
    "weather"
   ]
  },
  {
   "cell_type": "code",
   "execution_count": null,
   "metadata": {},
   "outputs": [],
   "source": []
  },
  {
   "cell_type": "code",
   "execution_count": null,
   "metadata": {},
   "outputs": [],
   "source": []
  },
  {
   "cell_type": "code",
   "execution_count": null,
   "metadata": {},
   "outputs": [],
   "source": []
  },
  {
   "cell_type": "code",
   "execution_count": null,
   "metadata": {},
   "outputs": [],
   "source": []
  },
  {
   "cell_type": "code",
   "execution_count": null,
   "metadata": {},
   "outputs": [],
   "source": []
  },
  {
   "cell_type": "code",
   "execution_count": null,
   "metadata": {},
   "outputs": [],
   "source": []
  },
  {
   "cell_type": "code",
   "execution_count": null,
   "metadata": {},
   "outputs": [],
   "source": []
  },
  {
   "cell_type": "code",
   "execution_count": null,
   "metadata": {},
   "outputs": [],
   "source": []
  },
  {
   "cell_type": "code",
   "execution_count": null,
   "metadata": {},
   "outputs": [],
   "source": []
  },
  {
   "cell_type": "code",
   "execution_count": null,
   "metadata": {},
   "outputs": [],
   "source": []
  },
  {
   "cell_type": "code",
   "execution_count": null,
   "metadata": {},
   "outputs": [],
   "source": []
  },
  {
   "cell_type": "code",
   "execution_count": null,
   "metadata": {},
   "outputs": [],
   "source": []
  },
  {
   "cell_type": "code",
   "execution_count": null,
   "metadata": {},
   "outputs": [],
   "source": []
  },
  {
   "cell_type": "code",
   "execution_count": null,
   "metadata": {},
   "outputs": [],
   "source": []
  },
  {
   "cell_type": "code",
   "execution_count": null,
   "metadata": {},
   "outputs": [],
   "source": []
  },
  {
   "cell_type": "code",
   "execution_count": null,
   "metadata": {},
   "outputs": [],
   "source": []
  },
  {
   "cell_type": "code",
   "execution_count": null,
   "metadata": {},
   "outputs": [],
   "source": []
  },
  {
   "cell_type": "code",
   "execution_count": null,
   "metadata": {},
   "outputs": [],
   "source": []
  },
  {
   "cell_type": "code",
   "execution_count": null,
   "metadata": {},
   "outputs": [],
   "source": []
  },
  {
   "cell_type": "code",
   "execution_count": 17,
   "metadata": {},
   "outputs": [
    {
     "name": "stdout",
     "output_type": "stream",
     "text": [
      "<Response [200]>\n"
     ]
    }
   ],
   "source": [
    "print(page)"
   ]
  },
  {
   "cell_type": "code",
   "execution_count": null,
   "metadata": {},
   "outputs": [],
   "source": []
  },
  {
   "cell_type": "code",
   "execution_count": null,
   "metadata": {},
   "outputs": [],
   "source": []
  }
 ],
 "metadata": {
  "kernelspec": {
   "display_name": "Python 3",
   "language": "python",
   "name": "python3"
  },
  "language_info": {
   "codemirror_mode": {
    "name": "ipython",
    "version": 3
   },
   "file_extension": ".py",
   "mimetype": "text/x-python",
   "name": "python",
   "nbconvert_exporter": "python",
   "pygments_lexer": "ipython3",
   "version": "3.7.3"
  }
 },
 "nbformat": 4,
 "nbformat_minor": 2
}
